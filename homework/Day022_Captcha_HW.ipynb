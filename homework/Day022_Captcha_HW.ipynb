{
  "nbformat": 4,
  "nbformat_minor": 0,
  "metadata": {
    "accelerator": "GPU",
    "colab": {
      "name": "Day022_Captcha_HW.ipynb",
      "provenance": [],
      "collapsed_sections": []
    },
    "kernelspec": {
      "name": "python3",
      "display_name": "Python 3"
    },
    "language_info": {
      "codemirror_mode": {
        "name": "ipython",
        "version": 3
      },
      "file_extension": ".py",
      "mimetype": "text/x-python",
      "name": "python",
      "nbconvert_exporter": "python",
      "pygments_lexer": "ipython3",
      "version": "3.6.7"
    }
  },
  "cells": [
    {
      "cell_type": "markdown",
      "metadata": {
        "id": "LQPnG1Q6GRGn",
        "colab_type": "text"
      },
      "source": [
        "## 『本次練習內容』\n",
        "#### 搭建一個能識別驗證碼的模型(CNN+CTC)"
      ]
    },
    {
      "cell_type": "markdown",
      "metadata": {
        "id": "ihUQV3fCGRGp",
        "colab_type": "text"
      },
      "source": [
        "## 『本次練習目的』\n",
        "  #### 了解如何結合CNN與CTC Loss\n",
        "  #### 有時間學員也可以延伸閱讀CNN+RNN+CTC模型\n",
        "  #### 沒有GPU的學員可以使用Colab，可以參考問答區的文章"
      ]
    },
    {
      "cell_type": "code",
      "metadata": {
        "id": "_KvHHNr-GRGq",
        "colab_type": "code",
        "colab": {
          "base_uri": "https://localhost:8080/",
          "height": 323
        },
        "outputId": "d85e7d5e-f37f-4ea2-bacf-916bcf8b1976"
      },
      "source": [
        "## 使用Colab可先run這裡的code\n",
        "#假如要連結自己的雲端硬碟再開啟\n",
        "from google.colab import drive\n",
        "drive.mount('/content/gdrive')\n",
        "#檢查GPU\n",
        "!nvidia-smi\n",
        "##安裝產生驗證碼的套件"
      ],
      "execution_count": 4,
      "outputs": [
        {
          "output_type": "stream",
          "text": [
            "Drive already mounted at /content/gdrive; to attempt to forcibly remount, call drive.mount(\"/content/gdrive\", force_remount=True).\n",
            "Wed Jan  8 12:24:20 2020       \n",
            "+-----------------------------------------------------------------------------+\n",
            "| NVIDIA-SMI 440.44       Driver Version: 418.67       CUDA Version: 10.1     |\n",
            "|-------------------------------+----------------------+----------------------+\n",
            "| GPU  Name        Persistence-M| Bus-Id        Disp.A | Volatile Uncorr. ECC |\n",
            "| Fan  Temp  Perf  Pwr:Usage/Cap|         Memory-Usage | GPU-Util  Compute M. |\n",
            "|===============================+======================+======================|\n",
            "|   0  Tesla K80           Off  | 00000000:00:04.0 Off |                    0 |\n",
            "| N/A   36C    P8    27W / 149W |      0MiB / 11441MiB |      0%      Default |\n",
            "+-------------------------------+----------------------+----------------------+\n",
            "                                                                               \n",
            "+-----------------------------------------------------------------------------+\n",
            "| Processes:                                                       GPU Memory |\n",
            "|  GPU       PID   Type   Process name                             Usage      |\n",
            "|=============================================================================|\n",
            "|  No running processes found                                                 |\n",
            "+-----------------------------------------------------------------------------+\n"
          ],
          "name": "stdout"
        }
      ]
    },
    {
      "cell_type": "markdown",
      "metadata": {
        "id": "dkw9YFSjGRGu",
        "colab_type": "text"
      },
      "source": [
        "## 記得先 pip install captcha"
      ]
    },
    {
      "cell_type": "code",
      "metadata": {
        "colab_type": "code",
        "id": "AxGi02yvx1Go",
        "outputId": "85a099a4-bf73-4720-ceee-3b758e160c1e",
        "colab": {
          "base_uri": "https://localhost:8080/",
          "height": 156
        }
      },
      "source": [
        "pip install captcha"
      ],
      "execution_count": 6,
      "outputs": [
        {
          "output_type": "stream",
          "text": [
            "Collecting captcha\n",
            "\u001b[?25l  Downloading https://files.pythonhosted.org/packages/90/fe/d4ddf1e6576073b5eaea76e9b2afa022c626212a30c871968480be3ccb7b/captcha-0.3-py3-none-any.whl (101kB)\n",
            "\u001b[K     |████████████████████████████████| 102kB 2.4MB/s \n",
            "\u001b[?25hRequirement already satisfied: Pillow in /usr/local/lib/python3.6/dist-packages (from captcha) (4.3.0)\n",
            "Requirement already satisfied: olefile in /usr/local/lib/python3.6/dist-packages (from Pillow->captcha) (0.46)\n",
            "Installing collected packages: captcha\n",
            "Successfully installed captcha-0.3\n"
          ],
          "name": "stdout"
        }
      ]
    },
    {
      "cell_type": "markdown",
      "metadata": {
        "id": "HNbbQZjLGRGy",
        "colab_type": "text"
      },
      "source": [
        "## 產生驗證碼"
      ]
    },
    {
      "cell_type": "code",
      "metadata": {
        "colab_type": "code",
        "id": "h2VVCBKwk6Zv",
        "outputId": "7b4672b2-2b97-417b-9521-3127097c169c",
        "colab": {
          "base_uri": "https://localhost:8080/",
          "height": 254
        }
      },
      "source": [
        "from captcha.image import ImageCaptcha\n",
        "import matplotlib.pyplot as plt\n",
        "import numpy as np\n",
        "import random\n",
        "\n",
        "%matplotlib inline\n",
        "%config InlineBackend.figure_format = 'retina'\n",
        "\n",
        "import string\n",
        "##驗證碼包含0-10數字以及26個英文字母\n",
        "characters = string.digits + string.ascii_uppercase\n",
        "print(characters)\n",
        "\n",
        "##設定產生圖片尺寸，以及總類別，n_class之所以要加一是為了留一個位置給Blank\n",
        "width, height, n_len, n_class = 170, 80, 4, len(characters)+1\n",
        "\n",
        "##設定產生驗證碼的generator\n",
        "generator = ImageCaptcha(width=width, height=height)\n",
        "\n",
        "##我們先練習固定長度4個字的驗證碼\n",
        "random_str = ''.join([random.choice(characters) for j in range(4)])\n",
        "img = generator.generate_image(random_str)\n",
        "\n",
        "plt.imshow(img)\n",
        "plt.title(random_str)"
      ],
      "execution_count": 31,
      "outputs": [
        {
          "output_type": "stream",
          "text": [
            "0123456789ABCDEFGHIJKLMNOPQRSTUVWXYZ\n"
          ],
          "name": "stdout"
        },
        {
          "output_type": "execute_result",
          "data": {
            "text/plain": [
              "Text(0.5, 1.0, 'DXY3')"
            ]
          },
          "metadata": {
            "tags": []
          },
          "execution_count": 31
        },
        {
          "output_type": "display_data",
          "data": {
            "image/png": "[encoded data removed]",
            "text/plain": [
              "<Figure size 432x288 with 1 Axes>"
            ]
          },
          "metadata": {
            "tags": [],
            "image/png": {
              "width": 369,
              "height": 203
            }
          }
        }
      ]
    },
    {
      "cell_type": "markdown",
      "metadata": {
        "id": "HufpT28oGRG2",
        "colab_type": "text"
      },
      "source": [
        "## 自己搭建一個CNN模型使得output feature Map 高度被壓縮成小於4，8<寬度<20\n",
        "#### 解答的output feature Map 為 (batch_size,1,13,32)"
      ]
    },
    {
      "cell_type": "code",
      "metadata": {
        "id": "BmCMKb19J6vk",
        "colab_type": "code",
        "colab": {}
      },
      "source": [
        "def ctc_lambda_func(args):\n",
        "    y_pred, labels, input_length, label_length = args\n",
        "    return K.ctc_batch_cost(labels, y_pred, input_length, label_length)"
      ],
      "execution_count": 0,
      "outputs": []
    },
    {
      "cell_type": "code",
      "metadata": {
        "colab_type": "code",
        "id": "KX3Jq1sClGGn",
        "outputId": "c42f5b85-bae5-4e64-c6ae-6fe6d0004f01",
        "colab": {
          "base_uri": "https://localhost:8080/",
          "height": 275
        }
      },
      "source": [
        "from keras.models import *\n",
        "from keras.layers import *\n",
        "rnn_size = 128\n",
        "\n",
        "input_tensor = Input((height,width, 3))\n",
        "x = input_tensor\n",
        "\n",
        "#自己設計CNN層\n",
        "x = Convolution2D(32, 3, 3, activation='relu')(x)\n",
        "x = Convolution2D(32, 3, 3, activation='relu')(x)\n",
        "x = BatchNormalization(axis=-1)(x)\n",
        "x = MaxPooling2D((2,2))(x)\n",
        "\n",
        "x = Convolution2D(32, 3, 3, activation='relu')(x)\n",
        "x = Convolution2D(32, 3, 3, activation='relu')(x)\n",
        "x = BatchNormalization(axis=-1)(x)\n",
        "x = MaxPooling2D((2,2))(x)\n",
        "\n",
        "x = Convolution2D(32, 3, 3, activation='relu')(x)\n",
        "x = Convolution2D(32, 3, 3, activation='relu')(x)\n",
        "x = BatchNormalization(axis=-1)(x)\n",
        "x = MaxPooling2D((2,2))(x)\n",
        "\n",
        "x = Convolution2D(32, 3, 3, activation='relu')(x)\n",
        "x = Convolution2D(32, 3, 3, activation='relu')(x)\n",
        "x = BatchNormalization(axis=-1)(x)\n",
        "x = MaxPooling2D((2, 2))(x)\n",
        "\n",
        "\n",
        "\n",
        "##記錄輸出CNN尺寸，loss部分需要這個資訊\n",
        "##conv_shape=(Batch_size,輸出高度,輸出寬度,輸出深度)\n",
        "conv_shape = x.get_shape()\n",
        "\n",
        "##從(Batch_size,輸出高度,輸出寬度,輸出深度)變成(Batch_size,輸出寬度,輸出深度*輸出高度)，以符合ctc loss需求\n",
        "x = Reshape(target_shape=(int(conv_shape[2]), int(conv_shape[1]*conv_shape[3])))(x)\n",
        "\n",
        "x = Dense(32, activation='relu')(x)\n",
        "\n",
        "x = Dropout(0.25)(x)\n",
        "x = Dense(n_class, activation='softmax')(x)\n",
        "\n",
        "\n",
        "##包裝用來預測的model\n",
        "base_model = Model(input=input_tensor, output=x)\n",
        "\n",
        "\n",
        "##設定要給CTC Loss的資訊\n",
        "labels = Input(name='the_labels', shape=[n_len], dtype='float32')\n",
        "input_length = Input(name='input_length', shape=[1], dtype='int64')\n",
        "label_length = Input(name='label_length', shape=[1], dtype='int64')\n",
        "loss_out = Lambda(ctc_lambda_func, output_shape=(1,), \n",
        "                  name='ctc')([x, labels, input_length, label_length])\n",
        "\n",
        "##這裡的model是用來計算loss\n",
        "model = Model(input=[input_tensor, labels, input_length, label_length], output=[loss_out])\n",
        "\n",
        "##之所以要lambda y_true, y_pred: y_pred是因為我們的loss已經包在網路裡，會output:y_true, y_pred，而我們只需要y_pred\n",
        "model.compile(loss={'ctc': lambda y_true, y_pred: y_pred}, optimizer='SGD')"
      ],
      "execution_count": 33,
      "outputs": [
        {
          "output_type": "stream",
          "text": [
            "/usr/local/lib/python3.6/dist-packages/ipykernel_launcher.py:9: UserWarning: Update your `Conv2D` call to the Keras 2 API: `Conv2D(32, (3, 3), activation=\"relu\")`\n",
            "  if __name__ == '__main__':\n",
            "/usr/local/lib/python3.6/dist-packages/ipykernel_launcher.py:10: UserWarning: Update your `Conv2D` call to the Keras 2 API: `Conv2D(32, (3, 3), activation=\"relu\")`\n",
            "  # Remove the CWD from sys.path while we load stuff.\n",
            "/usr/local/lib/python3.6/dist-packages/ipykernel_launcher.py:14: UserWarning: Update your `Conv2D` call to the Keras 2 API: `Conv2D(32, (3, 3), activation=\"relu\")`\n",
            "  \n",
            "/usr/local/lib/python3.6/dist-packages/ipykernel_launcher.py:15: UserWarning: Update your `Conv2D` call to the Keras 2 API: `Conv2D(32, (3, 3), activation=\"relu\")`\n",
            "  from ipykernel import kernelapp as app\n",
            "/usr/local/lib/python3.6/dist-packages/ipykernel_launcher.py:19: UserWarning: Update your `Conv2D` call to the Keras 2 API: `Conv2D(32, (3, 3), activation=\"relu\")`\n",
            "/usr/local/lib/python3.6/dist-packages/ipykernel_launcher.py:20: UserWarning: Update your `Conv2D` call to the Keras 2 API: `Conv2D(32, (3, 3), activation=\"relu\")`\n",
            "/usr/local/lib/python3.6/dist-packages/ipykernel_launcher.py:24: UserWarning: Update your `Conv2D` call to the Keras 2 API: `Conv2D(32, (3, 3), activation=\"relu\")`\n",
            "/usr/local/lib/python3.6/dist-packages/ipykernel_launcher.py:25: UserWarning: Update your `Conv2D` call to the Keras 2 API: `Conv2D(32, (3, 3), activation=\"relu\")`\n",
            "/usr/local/lib/python3.6/dist-packages/ipykernel_launcher.py:45: UserWarning: Update your `Model` call to the Keras 2 API: `Model(inputs=Tensor(\"in..., outputs=Tensor(\"de...)`\n",
            "/usr/local/lib/python3.6/dist-packages/ipykernel_launcher.py:56: UserWarning: Update your `Model` call to the Keras 2 API: `Model(inputs=[<tf.Tenso..., outputs=[<tf.Tenso...)`\n"
          ],
          "name": "stderr"
        }
      ]
    },
    {
      "cell_type": "code",
      "metadata": {
        "colab_type": "code",
        "id": "m1YRv0TVN_FL",
        "outputId": "50d8fe07-fc28-4f15-fca6-b61a8569af13",
        "colab": {
          "base_uri": "https://localhost:8080/",
          "height": 1000
        }
      },
      "source": [
        "model.summary()"
      ],
      "execution_count": 34,
      "outputs": [
        {
          "output_type": "stream",
          "text": [
            "Model: \"model_9\"\n",
            "__________________________________________________________________________________________________\n",
            "Layer (type)                    Output Shape         Param #     Connected to                     \n",
            "==================================================================================================\n",
            "input_6 (InputLayer)            (None, 80, 170, 3)   0                                            \n",
            "__________________________________________________________________________________________________\n",
            "conv2d_26 (Conv2D)              (None, 78, 168, 32)  896         input_6[0][0]                    \n",
            "__________________________________________________________________________________________________\n",
            "conv2d_27 (Conv2D)              (None, 76, 166, 32)  9248        conv2d_26[0][0]                  \n",
            "__________________________________________________________________________________________________\n",
            "batch_normalization_13 (BatchNo (None, 76, 166, 32)  128         conv2d_27[0][0]                  \n",
            "__________________________________________________________________________________________________\n",
            "max_pooling2d_18 (MaxPooling2D) (None, 38, 83, 32)   0           batch_normalization_13[0][0]     \n",
            "__________________________________________________________________________________________________\n",
            "conv2d_28 (Conv2D)              (None, 36, 81, 32)   9248        max_pooling2d_18[0][0]           \n",
            "__________________________________________________________________________________________________\n",
            "conv2d_29 (Conv2D)              (None, 34, 79, 32)   9248        conv2d_28[0][0]                  \n",
            "__________________________________________________________________________________________________\n",
            "batch_normalization_14 (BatchNo (None, 34, 79, 32)   128         conv2d_29[0][0]                  \n",
            "__________________________________________________________________________________________________\n",
            "max_pooling2d_19 (MaxPooling2D) (None, 17, 39, 32)   0           batch_normalization_14[0][0]     \n",
            "__________________________________________________________________________________________________\n",
            "conv2d_30 (Conv2D)              (None, 15, 37, 32)   9248        max_pooling2d_19[0][0]           \n",
            "__________________________________________________________________________________________________\n",
            "conv2d_31 (Conv2D)              (None, 13, 35, 32)   9248        conv2d_30[0][0]                  \n",
            "__________________________________________________________________________________________________\n",
            "batch_normalization_15 (BatchNo (None, 13, 35, 32)   128         conv2d_31[0][0]                  \n",
            "__________________________________________________________________________________________________\n",
            "max_pooling2d_20 (MaxPooling2D) (None, 6, 17, 32)    0           batch_normalization_15[0][0]     \n",
            "__________________________________________________________________________________________________\n",
            "conv2d_32 (Conv2D)              (None, 4, 15, 32)    9248        max_pooling2d_20[0][0]           \n",
            "__________________________________________________________________________________________________\n",
            "conv2d_33 (Conv2D)              (None, 2, 13, 32)    9248        conv2d_32[0][0]                  \n",
            "__________________________________________________________________________________________________\n",
            "batch_normalization_16 (BatchNo (None, 2, 13, 32)    128         conv2d_33[0][0]                  \n",
            "__________________________________________________________________________________________________\n",
            "max_pooling2d_21 (MaxPooling2D) (None, 1, 6, 32)     0           batch_normalization_16[0][0]     \n",
            "__________________________________________________________________________________________________\n",
            "reshape_6 (Reshape)             (None, 6, 32)        0           max_pooling2d_21[0][0]           \n",
            "__________________________________________________________________________________________________\n",
            "dense_10 (Dense)                (None, 6, 32)        1056        reshape_6[0][0]                  \n",
            "__________________________________________________________________________________________________\n",
            "dropout_5 (Dropout)             (None, 6, 32)        0           dense_10[0][0]                   \n",
            "__________________________________________________________________________________________________\n",
            "dense_11 (Dense)                (None, 6, 37)        1221        dropout_5[0][0]                  \n",
            "__________________________________________________________________________________________________\n",
            "the_labels (InputLayer)         (None, 4)            0                                            \n",
            "__________________________________________________________________________________________________\n",
            "input_length (InputLayer)       (None, 1)            0                                            \n",
            "__________________________________________________________________________________________________\n",
            "label_length (InputLayer)       (None, 1)            0                                            \n",
            "__________________________________________________________________________________________________\n",
            "ctc (Lambda)                    (None, 1)            0           dense_11[0][0]                   \n",
            "                                                                 the_labels[0][0]                 \n",
            "                                                                 input_length[0][0]               \n",
            "                                                                 label_length[0][0]               \n",
            "==================================================================================================\n",
            "Total params: 68,421\n",
            "Trainable params: 68,165\n",
            "Non-trainable params: 256\n",
            "__________________________________________________________________________________________________\n"
          ],
          "name": "stdout"
        }
      ]
    },
    {
      "cell_type": "code",
      "metadata": {
        "id": "g_281YxVGRG9",
        "colab_type": "code",
        "colab": {}
      },
      "source": [
        "from keras import backend as K\n",
        "import keras\n",
        "\n",
        "##CTC Loss需要四個資訊，分別是\n",
        "## Label\n",
        "## 預測\n",
        "## CNN OUTPUT寬度\n",
        "## 預測影像所包含文字長度\n",
        "def ctc_lambda_func(args):\n",
        "    y_pred, labels, input_length, label_length = args\n",
        "    return K.ctc_batch_cost(labels, y_pred, input_length, label_length)"
      ],
      "execution_count": 0,
      "outputs": []
    },
    {
      "cell_type": "code",
      "metadata": {
        "colab_type": "code",
        "id": "5Jzb1YnqlJug",
        "colab": {}
      },
      "source": [
        "##設計generator產生training data\n",
        "## 產生包含要給loss的資訊\n",
        "## X=輸入影像\n",
        "## np.ones(batch_size)*int(conv_shape[2])=CNN輸出feature Map寬度\n",
        "## np.ones(batch_size)*n_len=字串長度(可浮動)\n",
        "\n",
        "def gen(batch_size=128):\n",
        "    X = np.zeros((batch_size,height, width, 3), dtype=np.uint8)\n",
        "    y = np.zeros((batch_size, n_len), dtype=np.uint8)\n",
        "    while True:\n",
        "        generator = ImageCaptcha(width=width, height=height)\n",
        "        for i in range(batch_size):\n",
        "            random_str = ''.join([random.choice(characters) for j in range(4)])\n",
        "            X[i] = np.array(generator.generate_image(random_str))\n",
        "            y[i] = [characters.find(x) for x in random_str]\n",
        "        yield [X, y,np.ones(batch_size)*int(conv_shape[2]), np.ones(batch_size)*n_len], np.ones(batch_size)"
      ],
      "execution_count": 0,
      "outputs": []
    },
    {
      "cell_type": "code",
      "metadata": {
        "colab_type": "code",
        "id": "dfcFs6InVQaT",
        "outputId": "cb4d8c4d-2eb0-49a3-a4df-204fdef495fb",
        "colab": {
          "base_uri": "https://localhost:8080/",
          "height": 259
        }
      },
      "source": [
        "next_ge=gen(batch_size=1)\n",
        "test_ge=next(next_ge)\n",
        "plt.imshow(test_ge[0][0][0])\n",
        "print('Label: ',test_ge[0][1])\n",
        "print('CNN輸出寬度: ',test_ge[0][2])\n",
        "print('字串長度(可浮動): ',test_ge[0][3])"
      ],
      "execution_count": 37,
      "outputs": [
        {
          "output_type": "stream",
          "text": [
            "Label:  [[28  9 28 34]]\n",
            "CNN輸出寬度:  [6.]\n",
            "字串長度(可浮動):  [4.]\n"
          ],
          "name": "stdout"
        },
        {
          "output_type": "display_data",
          "data": {
            "image/png": "[encoded data removed]",
            "text/plain": [
              "<Figure size 432x288 with 1 Axes>"
            ]
          },
          "metadata": {
            "tags": [],
            "image/png": {
              "width": 369,
              "height": 191
            }
          }
        }
      ]
    },
    {
      "cell_type": "markdown",
      "metadata": {
        "id": "4j6Rr1rjGRHE",
        "colab_type": "text"
      },
      "source": [
        "## 開始訓練"
      ]
    },
    {
      "cell_type": "code",
      "metadata": {
        "colab_type": "code",
        "id": "fqdKnqollUKj",
        "outputId": "d37a1676-da65-4400-ac46-bba4b673fbc6",
        "colab": {
          "base_uri": "https://localhost:8080/",
          "height": 1000
        }
      },
      "source": [
        "model.fit_generator(gen(32), steps_per_epoch=300, epochs=50)"
      ],
      "execution_count": 38,
      "outputs": [
        {
          "output_type": "stream",
          "text": [
            "Epoch 1/50\n",
            "300/300 [==============================] - 50s 168ms/step - loss: 14.7500\n",
            "Epoch 2/50\n",
            "300/300 [==============================] - 49s 163ms/step - loss: 11.6629\n",
            "Epoch 3/50\n",
            "300/300 [==============================] - 49s 163ms/step - loss: 9.3316\n",
            "Epoch 4/50\n",
            "300/300 [==============================] - 49s 163ms/step - loss: 8.1083\n",
            "Epoch 5/50\n",
            "300/300 [==============================] - 49s 163ms/step - loss: 7.4129\n",
            "Epoch 6/50\n",
            "300/300 [==============================] - 49s 163ms/step - loss: 6.9922\n",
            "Epoch 7/50\n",
            "300/300 [==============================] - 49s 163ms/step - loss: 6.6064\n",
            "Epoch 8/50\n",
            "300/300 [==============================] - 49s 163ms/step - loss: 6.2504\n",
            "Epoch 9/50\n",
            "300/300 [==============================] - 49s 163ms/step - loss: 6.0652\n",
            "Epoch 10/50\n",
            "300/300 [==============================] - 49s 163ms/step - loss: 5.8685\n",
            "Epoch 11/50\n",
            "300/300 [==============================] - 49s 164ms/step - loss: 5.6919\n",
            "Epoch 12/50\n",
            "300/300 [==============================] - 49s 163ms/step - loss: 5.5850\n",
            "Epoch 13/50\n",
            "300/300 [==============================] - 49s 164ms/step - loss: 5.5238\n",
            "Epoch 14/50\n",
            "300/300 [==============================] - 49s 164ms/step - loss: 5.3148\n",
            "Epoch 15/50\n",
            "300/300 [==============================] - 49s 164ms/step - loss: inf\n",
            "Epoch 16/50\n",
            "300/300 [==============================] - 49s 164ms/step - loss: 5.0946\n",
            "Epoch 17/50\n",
            "300/300 [==============================] - 49s 165ms/step - loss: 4.9713\n",
            "Epoch 18/50\n",
            "300/300 [==============================] - 49s 164ms/step - loss: 4.9851\n",
            "Epoch 19/50\n",
            "300/300 [==============================] - 49s 163ms/step - loss: 4.8605\n",
            "Epoch 20/50\n",
            "300/300 [==============================] - 49s 163ms/step - loss: 4.8021\n",
            "Epoch 21/50\n",
            "300/300 [==============================] - 49s 164ms/step - loss: 4.7549\n",
            "Epoch 22/50\n",
            "300/300 [==============================] - 49s 164ms/step - loss: 4.6756\n",
            "Epoch 23/50\n",
            "300/300 [==============================] - 49s 164ms/step - loss: inf\n",
            "Epoch 24/50\n",
            "300/300 [==============================] - 49s 164ms/step - loss: 4.5520\n",
            "Epoch 25/50\n",
            "300/300 [==============================] - 49s 164ms/step - loss: 4.4578\n",
            "Epoch 26/50\n",
            "300/300 [==============================] - 49s 165ms/step - loss: 4.4013\n",
            "Epoch 27/50\n",
            "300/300 [==============================] - 49s 164ms/step - loss: 4.3664\n",
            "Epoch 28/50\n",
            "300/300 [==============================] - 49s 165ms/step - loss: inf\n",
            "Epoch 29/50\n",
            "300/300 [==============================] - 49s 165ms/step - loss: 4.3158\n",
            "Epoch 30/50\n",
            "300/300 [==============================] - 49s 164ms/step - loss: 4.2331\n",
            "Epoch 31/50\n",
            "300/300 [==============================] - 49s 164ms/step - loss: inf\n",
            "Epoch 32/50\n",
            "300/300 [==============================] - 49s 164ms/step - loss: 4.1681\n",
            "Epoch 33/50\n",
            "300/300 [==============================] - 49s 164ms/step - loss: inf\n",
            "Epoch 34/50\n",
            "300/300 [==============================] - 49s 164ms/step - loss: 4.1356\n",
            "Epoch 35/50\n",
            "300/300 [==============================] - 49s 164ms/step - loss: inf\n",
            "Epoch 36/50\n",
            "300/300 [==============================] - 49s 163ms/step - loss: 4.0046\n",
            "Epoch 37/50\n",
            "300/300 [==============================] - 49s 162ms/step - loss: 3.9969\n",
            "Epoch 38/50\n",
            "300/300 [==============================] - 48s 161ms/step - loss: 4.0208\n",
            "Epoch 39/50\n",
            "300/300 [==============================] - 49s 162ms/step - loss: 3.9757\n",
            "Epoch 40/50\n",
            "300/300 [==============================] - 49s 163ms/step - loss: 3.8841\n",
            "Epoch 41/50\n",
            "300/300 [==============================] - 49s 163ms/step - loss: 3.8934\n",
            "Epoch 42/50\n",
            "300/300 [==============================] - 49s 164ms/step - loss: 3.8589\n",
            "Epoch 43/50\n",
            "300/300 [==============================] - 49s 164ms/step - loss: inf\n",
            "Epoch 44/50\n",
            "300/300 [==============================] - 49s 163ms/step - loss: 3.7943\n",
            "Epoch 45/50\n",
            "300/300 [==============================] - 49s 164ms/step - loss: 3.7491\n",
            "Epoch 46/50\n",
            "300/300 [==============================] - 49s 164ms/step - loss: 3.7699\n",
            "Epoch 47/50\n",
            "300/300 [==============================] - 49s 164ms/step - loss: 3.7213\n",
            "Epoch 48/50\n",
            "300/300 [==============================] - 49s 164ms/step - loss: 3.6737\n",
            "Epoch 49/50\n",
            "300/300 [==============================] - 49s 164ms/step - loss: 3.6588\n",
            "Epoch 50/50\n",
            "300/300 [==============================] - 49s 162ms/step - loss: inf\n"
          ],
          "name": "stdout"
        },
        {
          "output_type": "execute_result",
          "data": {
            "text/plain": [
              "<keras.callbacks.History at 0x7fc12a314e10>"
            ]
          },
          "metadata": {
            "tags": []
          },
          "execution_count": 38
        }
      ]
    },
    {
      "cell_type": "markdown",
      "metadata": {
        "id": "kJREEqm9GRHH",
        "colab_type": "text"
      },
      "source": [
        "## 預測"
      ]
    },
    {
      "cell_type": "code",
      "metadata": {
        "id": "6J7lOHrgGRHI",
        "colab_type": "code",
        "colab": {
          "base_uri": "https://localhost:8080/",
          "height": 234
        },
        "outputId": "fb6b3336-d273-4b62-c7e1-9c3eb763d319"
      },
      "source": [
        "characters2 = characters + ' '\n",
        "[X_test, y_test, _, _], _  = next(gen(1))\n",
        "y_pred = base_model.predict(X_test)\n",
        "##用ctc_decode得到解答，自己寫可以參考下方\n",
        "out = K.get_value(K.ctc_decode(y_pred, input_length=np.ones(y_pred.shape[0])*y_pred.shape[1], )[0][0])\n",
        "out = ''.join([characters[x] for x in out[0]])\n",
        "y_true = ''.join([characters[x] for x in y_test[0]])\n",
        "\n",
        "plt.imshow(X_test[0])\n",
        "plt.title('pred:' + str(out) + '\\ntrue: ' + str(y_true))\n",
        "\n",
        "argmax = np.argmax(y_pred, axis=2)[0]"
      ],
      "execution_count": 39,
      "outputs": [
        {
          "output_type": "display_data",
          "data": {
            "image/png": "[encoded data removed]",
            "text/plain": [
              "<Figure size 432x288 with 1 Axes>"
            ]
          },
          "metadata": {
            "tags": [],
            "image/png": {
              "width": 369,
              "height": 217
            }
          }
        }
      ]
    },
    {
      "cell_type": "markdown",
      "metadata": {
        "id": "0M-SOwevGRHK",
        "colab_type": "text"
      },
      "source": [
        "## 自己寫 decode CTC"
      ]
    },
    {
      "cell_type": "code",
      "metadata": {
        "id": "mclKaqJgGRHL",
        "colab_type": "code",
        "colab": {}
      },
      "source": [
        "## 其中0代表預測為空格，如果預測相同字符之間沒有空格要移除\n",
        "word=''\n",
        "n=''\n",
        "for single_result in y_pred[0].argmax(1):\n",
        "    if single_result != 36:\n",
        "        if n != single_result:\n",
        "            word+=characters[single_result]\n",
        "    n=single_result "
      ],
      "execution_count": 0,
      "outputs": []
    },
    {
      "cell_type": "markdown",
      "metadata": {
        "id": "NZygVIw4GRHN",
        "colab_type": "text"
      },
      "source": [
        "## 額外參考：加入RNN的神經網路"
      ]
    },
    {
      "cell_type": "code",
      "metadata": {
        "id": "4lB6beVUGRHO",
        "colab_type": "code",
        "colab": {
          "base_uri": "https://localhost:8080/",
          "height": 224
        },
        "outputId": "ea64cad7-420e-401c-ad2f-8460167faea1"
      },
      "source": [
        "from keras.models import *\n",
        "from keras.layers import *\n",
        "rnn_size = 128\n",
        "\n",
        "input_tensor = Input((height,width, 3))\n",
        "x = input_tensor\n",
        "for i in range(4):\n",
        "    x = Convolution2D(32, 3, 3, activation='relu')(x)\n",
        "    x = keras.layers.BatchNormalization(axis=-1)(x)\n",
        "    x = Convolution2D(32, 3, 3, activation='relu')(x)\n",
        "    x = keras.layers.BatchNormalization(axis=-1)(x)\n",
        "    if i <3:\n",
        "        x = MaxPooling2D(pool_size=(2, 2))(x)\n",
        "    else:\n",
        "        x = MaxPooling2D(pool_size=(2, 1))(x)\n",
        "\n",
        "\n",
        "conv_shape = x.get_shape()\n",
        "x = Reshape(target_shape=(int(conv_shape[2]), int(conv_shape[1]*conv_shape[3])))(x)\n",
        "\n",
        "x = Dense(32, activation='relu')(x)\n",
        "\n",
        "gru_1 = GRU(rnn_size, return_sequences=True, init='he_normal', name='gru1')(x)\n",
        "gru_1b = GRU(rnn_size, return_sequences=True, go_backwards=True, \n",
        "             init='he_normal', name='gru1_b')(x)\n",
        "gru1_merged = keras.layers.add([gru_1, gru_1b])\n",
        "\n",
        "gru_2 = GRU(rnn_size, return_sequences=True, init='he_normal', name='gru2')(gru1_merged)\n",
        "gru_2b = GRU(rnn_size, return_sequences=True, go_backwards=True, \n",
        "             init='he_normal', name='gru2_b')(gru1_merged)\n",
        "x = keras.layers.Concatenate()([gru_2, gru_2b])\n",
        "\n",
        "x = Dropout(0.25)(x)\n",
        "x = Dense(n_class, init='he_normal', activation='softmax')(x)\n",
        "\n",
        "base_model = Model(input=input_tensor, output=x)\n",
        "\n",
        "labels = Input(name='the_labels', shape=[n_len], dtype='float32')\n",
        "input_length = Input(name='input_length', shape=[1], dtype='int64')\n",
        "label_length = Input(name='label_length', shape=[1], dtype='int64')\n",
        "loss_out = Lambda(ctc_lambda_func, output_shape=(1,), \n",
        "                  name='ctc')([x, labels, input_length, label_length])\n",
        "\n",
        "model = Model(input=[input_tensor, labels, input_length, label_length], output=[loss_out])\n",
        "model.compile(loss={'ctc': lambda y_true, y_pred: y_pred}, optimizer='Adam')"
      ],
      "execution_count": 41,
      "outputs": [
        {
          "output_type": "stream",
          "text": [
            "/usr/local/lib/python3.6/dist-packages/ipykernel_launcher.py:8: UserWarning: Update your `Conv2D` call to the Keras 2 API: `Conv2D(32, (3, 3), activation=\"relu\")`\n",
            "  \n",
            "/usr/local/lib/python3.6/dist-packages/ipykernel_launcher.py:10: UserWarning: Update your `Conv2D` call to the Keras 2 API: `Conv2D(32, (3, 3), activation=\"relu\")`\n",
            "  # Remove the CWD from sys.path while we load stuff.\n",
            "/usr/local/lib/python3.6/dist-packages/ipykernel_launcher.py:23: UserWarning: Update your `GRU` call to the Keras 2 API: `GRU(128, return_sequences=True, name=\"gru1\", kernel_initializer=\"he_normal\")`\n",
            "/usr/local/lib/python3.6/dist-packages/ipykernel_launcher.py:25: UserWarning: Update your `GRU` call to the Keras 2 API: `GRU(128, return_sequences=True, go_backwards=True, name=\"gru1_b\", kernel_initializer=\"he_normal\")`\n",
            "/usr/local/lib/python3.6/dist-packages/ipykernel_launcher.py:28: UserWarning: Update your `GRU` call to the Keras 2 API: `GRU(128, return_sequences=True, name=\"gru2\", kernel_initializer=\"he_normal\")`\n",
            "/usr/local/lib/python3.6/dist-packages/ipykernel_launcher.py:30: UserWarning: Update your `GRU` call to the Keras 2 API: `GRU(128, return_sequences=True, go_backwards=True, name=\"gru2_b\", kernel_initializer=\"he_normal\")`\n",
            "/usr/local/lib/python3.6/dist-packages/ipykernel_launcher.py:34: UserWarning: Update your `Dense` call to the Keras 2 API: `Dense(37, activation=\"softmax\", kernel_initializer=\"he_normal\")`\n",
            "/usr/local/lib/python3.6/dist-packages/ipykernel_launcher.py:36: UserWarning: Update your `Model` call to the Keras 2 API: `Model(inputs=Tensor(\"in..., outputs=Tensor(\"de...)`\n",
            "/usr/local/lib/python3.6/dist-packages/ipykernel_launcher.py:44: UserWarning: Update your `Model` call to the Keras 2 API: `Model(inputs=[<tf.Tenso..., outputs=[<tf.Tenso...)`\n"
          ],
          "name": "stderr"
        }
      ]
    },
    {
      "cell_type": "code",
      "metadata": {
        "id": "mq1UnKNrGRHS",
        "colab_type": "code",
        "colab": {
          "base_uri": "https://localhost:8080/",
          "height": 1000
        },
        "outputId": "84b6660f-cd21-4273-b5f9-5cabaa3890b0"
      },
      "source": [
        "model.summary()"
      ],
      "execution_count": 42,
      "outputs": [
        {
          "output_type": "stream",
          "text": [
            "Model: \"model_11\"\n",
            "__________________________________________________________________________________________________\n",
            "Layer (type)                    Output Shape         Param #     Connected to                     \n",
            "==================================================================================================\n",
            "input_7 (InputLayer)            (None, 80, 170, 3)   0                                            \n",
            "__________________________________________________________________________________________________\n",
            "conv2d_34 (Conv2D)              (None, 78, 168, 32)  896         input_7[0][0]                    \n",
            "__________________________________________________________________________________________________\n",
            "batch_normalization_17 (BatchNo (None, 78, 168, 32)  128         conv2d_34[0][0]                  \n",
            "__________________________________________________________________________________________________\n",
            "conv2d_35 (Conv2D)              (None, 76, 166, 32)  9248        batch_normalization_17[0][0]     \n",
            "__________________________________________________________________________________________________\n",
            "batch_normalization_18 (BatchNo (None, 76, 166, 32)  128         conv2d_35[0][0]                  \n",
            "__________________________________________________________________________________________________\n",
            "max_pooling2d_22 (MaxPooling2D) (None, 38, 83, 32)   0           batch_normalization_18[0][0]     \n",
            "__________________________________________________________________________________________________\n",
            "conv2d_36 (Conv2D)              (None, 36, 81, 32)   9248        max_pooling2d_22[0][0]           \n",
            "__________________________________________________________________________________________________\n",
            "batch_normalization_19 (BatchNo (None, 36, 81, 32)   128         conv2d_36[0][0]                  \n",
            "__________________________________________________________________________________________________\n",
            "conv2d_37 (Conv2D)              (None, 34, 79, 32)   9248        batch_normalization_19[0][0]     \n",
            "__________________________________________________________________________________________________\n",
            "batch_normalization_20 (BatchNo (None, 34, 79, 32)   128         conv2d_37[0][0]                  \n",
            "__________________________________________________________________________________________________\n",
            "max_pooling2d_23 (MaxPooling2D) (None, 17, 39, 32)   0           batch_normalization_20[0][0]     \n",
            "__________________________________________________________________________________________________\n",
            "conv2d_38 (Conv2D)              (None, 15, 37, 32)   9248        max_pooling2d_23[0][0]           \n",
            "__________________________________________________________________________________________________\n",
            "batch_normalization_21 (BatchNo (None, 15, 37, 32)   128         conv2d_38[0][0]                  \n",
            "__________________________________________________________________________________________________\n",
            "conv2d_39 (Conv2D)              (None, 13, 35, 32)   9248        batch_normalization_21[0][0]     \n",
            "__________________________________________________________________________________________________\n",
            "batch_normalization_22 (BatchNo (None, 13, 35, 32)   128         conv2d_39[0][0]                  \n",
            "__________________________________________________________________________________________________\n",
            "max_pooling2d_24 (MaxPooling2D) (None, 6, 17, 32)    0           batch_normalization_22[0][0]     \n",
            "__________________________________________________________________________________________________\n",
            "conv2d_40 (Conv2D)              (None, 4, 15, 32)    9248        max_pooling2d_24[0][0]           \n",
            "__________________________________________________________________________________________________\n",
            "batch_normalization_23 (BatchNo (None, 4, 15, 32)    128         conv2d_40[0][0]                  \n",
            "__________________________________________________________________________________________________\n",
            "conv2d_41 (Conv2D)              (None, 2, 13, 32)    9248        batch_normalization_23[0][0]     \n",
            "__________________________________________________________________________________________________\n",
            "batch_normalization_24 (BatchNo (None, 2, 13, 32)    128         conv2d_41[0][0]                  \n",
            "__________________________________________________________________________________________________\n",
            "max_pooling2d_25 (MaxPooling2D) (None, 1, 13, 32)    0           batch_normalization_24[0][0]     \n",
            "__________________________________________________________________________________________________\n",
            "reshape_7 (Reshape)             (None, 13, 32)       0           max_pooling2d_25[0][0]           \n",
            "__________________________________________________________________________________________________\n",
            "dense_12 (Dense)                (None, 13, 32)       1056        reshape_7[0][0]                  \n",
            "__________________________________________________________________________________________________\n",
            "gru1 (GRU)                      (None, 13, 128)      61824       dense_12[0][0]                   \n",
            "__________________________________________________________________________________________________\n",
            "gru1_b (GRU)                    (None, 13, 128)      61824       dense_12[0][0]                   \n",
            "__________________________________________________________________________________________________\n",
            "add_2 (Add)                     (None, 13, 128)      0           gru1[0][0]                       \n",
            "                                                                 gru1_b[0][0]                     \n",
            "__________________________________________________________________________________________________\n",
            "gru2 (GRU)                      (None, 13, 128)      98688       add_2[0][0]                      \n",
            "__________________________________________________________________________________________________\n",
            "gru2_b (GRU)                    (None, 13, 128)      98688       add_2[0][0]                      \n",
            "__________________________________________________________________________________________________\n",
            "concatenate_2 (Concatenate)     (None, 13, 256)      0           gru2[0][0]                       \n",
            "                                                                 gru2_b[0][0]                     \n",
            "__________________________________________________________________________________________________\n",
            "dropout_6 (Dropout)             (None, 13, 256)      0           concatenate_2[0][0]              \n",
            "__________________________________________________________________________________________________\n",
            "dense_13 (Dense)                (None, 13, 37)       9509        dropout_6[0][0]                  \n",
            "__________________________________________________________________________________________________\n",
            "the_labels (InputLayer)         (None, 4)            0                                            \n",
            "__________________________________________________________________________________________________\n",
            "input_length (InputLayer)       (None, 1)            0                                            \n",
            "__________________________________________________________________________________________________\n",
            "label_length (InputLayer)       (None, 1)            0                                            \n",
            "__________________________________________________________________________________________________\n",
            "ctc (Lambda)                    (None, 1)            0           dense_13[0][0]                   \n",
            "                                                                 the_labels[0][0]                 \n",
            "                                                                 input_length[0][0]               \n",
            "                                                                 label_length[0][0]               \n",
            "==================================================================================================\n",
            "Total params: 398,245\n",
            "Trainable params: 397,733\n",
            "Non-trainable params: 512\n",
            "__________________________________________________________________________________________________\n"
          ],
          "name": "stdout"
        }
      ]
    },
    {
      "cell_type": "code",
      "metadata": {
        "id": "kM73vL0KGRHU",
        "colab_type": "code",
        "colab": {}
      },
      "source": [
        ""
      ],
      "execution_count": 0,
      "outputs": []
    }
  ]
}